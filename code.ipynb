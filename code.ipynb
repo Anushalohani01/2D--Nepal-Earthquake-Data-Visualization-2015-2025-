!pip install pandas
!pip install plotly
!pip install imageio
!pip install imageio[ffmpeg]
!pip install -U kaleido


import pandas as pd
import plotly.graph_objects as go

# Load earthquake data for Nepal
df = pd.read_csv("earthquake_data_nepal_2015_2025.csv")

# Filter data for magnitudes between 5 and 8
df = df[(df["magnitude"] >= 5) & (df["magnitude"] <= 8)].copy()

# Filter data within Nepal's geographical boundaries
df = df[(df["latitude"] >= 26.347) & (df["latitude"] <= 30.422)]  # Latitude range for Nepal
df = df[(df["longitude"] >= 80.058) & (df["longitude"] <= 88.201)]  # Longitude range for Nepal

# Normalize marker size based on magnitude (range: 5 to 8)
min_size = 4  # Minimum marker size
max_size = 10  # Maximum marker size
df["marker_size"] = ((df["magnitude"] - 5) / (8 - 5) * (max_size - min_size) + min_size)

# Create a 2D map plot
fig = go.Figure()

# Add earthquake data to the map
fig.add_trace(
    go.Scattergeo(
        lon=df["longitude"],  # Longitude on the X-axis
        lat=df["latitude"],   # Latitude on the Y-axis
        mode="markers",
        marker=dict(
            size=df["marker_size"],  # Marker size based on magnitude
            color=df["magnitude"],  # Marker color based on magnitude
            colorscale="Viridis",   # Color scale for magnitude
            colorbar=dict(
                title="Magnitude",
                len=0.5,
                thickness=20,
            ),
            opacity=0.8,
        ),
        text="Place: " + df["place"] + 
             "<br>Magnitude: " + df["magnitude"].astype(str) +
             "<br>Depth: " + df["depth"].astype(str) + " km",
        hovertemplate=None,  # Disable default hover template
        customdata=df[["place", "magnitude", "depth"]].values,  # Store extra data for interaction
        hoverinfo="text",  # Show custom hover text
    )
)

# Customize the layout for a 2D map view
fig.update_layout(
    geo=dict(
        scope="asia",  # Set map scope to Asia
        projection_type="mercator",  # Use Mercator projection for the map
        projection=dict(scale=1),  # Adjust map scale for better clarity
        center=dict(lat=28.3949, lon=84.1240),  # Center map on Nepal's coordinates
        lonaxis=dict(range=[80.058, 88.201]),  # Longitude range for Nepal
        lataxis=dict(range=[26.347, 30.422]),  # Latitude range for Nepal
        landcolor="lightgray",
        subunitcolor="white",
        countrycolor="white",
        lakecolor="white",
    ),
    title="2D Visualization of Earthquakes in Nepal (Magnitude 5-8) From 2015-2025",
    margin=dict(r=10, t=50, l=10, b=10),
    height=400,
)

# Save the plot as an HTML file
output_path = "2D_Earthquake_Map_Nepal_Mag5to8_2015_2025.html"
fig.write_html(output_path)
print(f"Interactive 2D map saved as '{output_path}'")

# Show the plot
fig.show()
import pandas as pd
import plotly.graph_objects as go
import os
import imageio.v2 as imageio  # Updated import to suppress the warning

# Load earthquake data
df = pd.read_csv("earthquake_data_nepal_2015_2025.csv")

# Filter data for earthquakes within Nepal's geographical boundary
df_nepal = df[(df["latitude"] >= 26.347) & (df["latitude"] <= 30.448) & 
              (df["longitude"] >= 80.058) & (df["longitude"] <= 88.201)]

# Normalize marker size based on magnitude
min_size = 4
max_size = 10
df_nepal["marker_size"] = ((df_nepal["magnitude"] - df_nepal["magnitude"].min()) /
                           (df_nepal["magnitude"].max() - df_nepal["magnitude"].min()) *
                           (max_size - min_size) + min_size)

# Directory to save frames
frames_dir = "frame"
os.makedirs(frames_dir, exist_ok=True)

# Calculate frame details for a 30-second video
fps = 30  # Frames per second
total_frames = fps * 30  # Total frames for a 30-second video
frame_paths = []

# Generate frames for the animation (simulate a gradual appearance of earthquakes)
for frame_idx in range(total_frames):
    # Simulate earthquake appearance over time by filtering data based on the frame
    # You can adjust this logic to suit your needs (e.g., show new earthquakes in each frame)
    df_visible = df_nepal.iloc[:int(len(df_nepal) * (frame_idx / total_frames))]  # Gradually show data
    
    # Create figure
    fig = go.Figure()
    
    # Add earthquake data
    fig.add_trace(
        go.Scattergeo(
            lon=df_visible["longitude"],
            lat=df_visible["latitude"],
            text=df_visible["place"] + "<br>Magnitude: " + df_visible["magnitude"].astype(str),
            mode="markers",
            marker=dict(
                size=df_visible["marker_size"],
                color=df_visible["magnitude"],
                colorscale="RdYlBu",
                cmin=df_nepal["magnitude"].min(),
                cmax=df_nepal["magnitude"].max(),
                colorbar=dict(title="Magnitude"),
                opacity=0.8,  # Slightly reduce opacity for better visibility
            ),
        )
    )
    
    # Customize the map appearance for Nepal
    fig.update_geos(
        projection_type="mercator",  # 2D projection for simplicity
        showcoastlines=True,
        coastlinecolor="black",
        showland=True,
        landcolor="lightgray",
        showocean=True,
        oceancolor="#30b1ce",
        showlakes=True,
        lakecolor="#64a8a8",
        scope="asia",  # Focus the map on Asia to better show Nepal
        center=dict(lon=84.124, lat=28.3949),  # Center the map on Nepal
        lataxis=dict(showgrid=True, gridwidth=1, range=[25.5, 31.5]),  # Slightly widen the latitude range
        lonaxis=dict(showgrid=True, gridwidth=1, range=[79.5, 88.5])   # Slightly widen the longitude range
    )
    
    # Layout settings with centered title
    fig.update_layout(
        title=dict(
            text="Earthquakes in Nepal (2015-2025)",
            x=0.5,  # Center the title
            xanchor='center',
            yanchor='top',
            font=dict(size=24)
        ),
        height=800,  # Adjusted for 2D view
        width=1200,  # Adjusted for 2D view
        margin={"r": 0, "t": 50, "l": 0, "b": 0},
    )
    
    # Save the frame
    frame_path = os.path.join(frames_dir, f"frame_{frame_idx:03d}.png")
    fig.write_image(frame_path, width=1200, height=800)
    frame_paths.append(frame_path)

# Create an animation video
output_video = "Earthquake_Nepal_Animation.mp4"
with imageio.get_writer(output_video, fps=fps) as writer:
    for frame_path in frame_paths:
        image = imageio.imread(frame_path)
        writer.append_data(image)

print(f"30-second animation saved at {output_video}")

import os
import imageio.v2 as imageio  # Updated import for compatibility

# Directory where frames are stored
frames_dir = "frame"
frame_paths = sorted([os.path.join(frames_dir, f) for f in os.listdir(frames_dir) if f.endswith(".png")])

# Output video file
output_video = "Earthquake_Nepal_Animation.mp4"

# Frames per second
fps = 30  # Adjust FPS for the desired video speed

# Create the video
with imageio.get_writer(output_video, fps=fps, codec="libx264", quality=8) as writer:
    for frame_path in frame_paths:
        image = imageio.imread(frame_path)  # Read each frame
        writer.append_data(image)          # Add frame to video

print(f"Video saved as {output_video}")
